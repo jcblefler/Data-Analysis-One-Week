{
 "cells": [
  {
   "cell_type": "markdown",
   "metadata": {},
   "source": [
    "# Module 5 Exercises - Time Series"
   ]
  },
  {
   "cell_type": "markdown",
   "metadata": {},
   "source": [
    "### Exercise 1:\n",
    "\n",
    "Create a numPy datetime variable with today's date. Then create 7 consecutive days (1 week) starting from the variable with today's date."
   ]
  },
  {
   "cell_type": "code",
   "execution_count": 1,
   "metadata": {},
   "outputs": [],
   "source": [
    "import pandas as pd\n",
    "import numpy as np\n",
    "import seaborn; seaborn.set()\n",
    "import matplotlib.pyplot as plt\n",
    "\n",
    "from datetime import datetime\n",
    "\n",
    "%matplotlib inline"
   ]
  },
  {
   "cell_type": "code",
   "execution_count": 3,
   "metadata": {},
   "outputs": [],
   "source": [
    "date = np.array('2019-08-20', dtype=np.datetime64)"
   ]
  },
  {
   "cell_type": "code",
   "execution_count": 4,
   "metadata": {},
   "outputs": [
    {
     "data": {
      "text/plain": [
       "array(['2019-08-20', '2019-08-21', '2019-08-22', '2019-08-23',\n",
       "       '2019-08-24', '2019-08-25', '2019-08-26'], dtype='datetime64[D]')"
      ]
     },
     "execution_count": 4,
     "metadata": {},
     "output_type": "execute_result"
    }
   ],
   "source": [
    "date + np.arange(7)"
   ]
  },
  {
   "cell_type": "markdown",
   "metadata": {},
   "source": [
    "### Exercise 2:\n",
    "\n",
    "Create a pandas datetime index with the dates 2016-02-11, 2016-07-01, 2016-07-09, 2016-10-08, 2017-02-18, 2017-02-25, 2017-05-02, 2017-08-26, 2017-12-15, and 2018-02-11. Then create a pandas Series with the values 0,1,2,3,4,5,6,7,8, and 9 in a list, with the dates as the index. Get the rows from the year 2017.  "
   ]
  },
  {
   "cell_type": "code",
   "execution_count": 23,
   "metadata": {},
   "outputs": [],
   "source": [
    "index = pd.DatetimeIndex(['2016-02-11', '2016-07-01', '2016-07-09', \n",
    "                          '2016-10-08', '2017-02-18', '2017-02-25', \n",
    "                          '2017-05-02', '2017-08-26', '2017-12-15', \n",
    "                          '2018-02-11'])"
   ]
  },
  {
   "cell_type": "code",
   "execution_count": 24,
   "metadata": {},
   "outputs": [
    {
     "data": {
      "text/plain": [
       "2016-02-11    0\n",
       "2016-07-01    1\n",
       "2016-07-09    2\n",
       "2016-10-08    3\n",
       "2017-02-18    4\n",
       "2017-02-25    5\n",
       "2017-05-02    6\n",
       "2017-08-26    7\n",
       "2017-12-15    8\n",
       "2018-02-11    9\n",
       "dtype: int64"
      ]
     },
     "execution_count": 24,
     "metadata": {},
     "output_type": "execute_result"
    }
   ],
   "source": [
    "data = pd.Series([0,1,2,3,4,5,6,7,8,9], index=index)\n",
    "data"
   ]
  },
  {
   "cell_type": "code",
   "execution_count": 25,
   "metadata": {},
   "outputs": [
    {
     "data": {
      "text/plain": [
       "2017-02-18    4\n",
       "2017-02-25    5\n",
       "2017-05-02    6\n",
       "2017-08-26    7\n",
       "2017-12-15    8\n",
       "dtype: int64"
      ]
     },
     "execution_count": 25,
     "metadata": {},
     "output_type": "execute_result"
    }
   ],
   "source": [
    "data['2017']"
   ]
  },
  {
   "cell_type": "markdown",
   "metadata": {},
   "source": [
    "### Exercise 3:\n",
    "\n",
    "Convert the following date formats into pandas datetime:\n",
    "\n",
    "- datetime(2017, 12, 15)\n",
    "- 8th of October 2016\n",
    "- 20180211\n",
    "- 2017-02-25\n",
    "- 2019-Jan-16"
   ]
  },
  {
   "cell_type": "code",
   "execution_count": 27,
   "metadata": {},
   "outputs": [
    {
     "data": {
      "text/plain": [
       "DatetimeIndex(['2017-12-15', '2016-10-08', '2018-02-11', '2017-02-25',\n",
       "               '2019-01-16'],\n",
       "              dtype='datetime64[ns]', freq=None)"
      ]
     },
     "execution_count": 27,
     "metadata": {},
     "output_type": "execute_result"
    }
   ],
   "source": [
    "dates = pd.to_datetime([datetime(2017, 12, 15), '8th of October 2016', '20180211', '2017-02-25', '2019-Jan-16'])\n",
    "dates"
   ]
  },
  {
   "cell_type": "markdown",
   "metadata": {},
   "source": [
    "### Exercise 4:\n",
    "\n",
    "Using the pandas library, make a time delta range that has five periods with a 1 hour 45 minute interval."
   ]
  },
  {
   "cell_type": "code",
   "execution_count": 28,
   "metadata": {},
   "outputs": [
    {
     "data": {
      "text/plain": [
       "TimedeltaIndex(['00:00:00', '01:30:00', '03:00:00', '04:30:00', '06:00:00'], dtype='timedelta64[ns]', freq='90T')"
      ]
     },
     "execution_count": 28,
     "metadata": {},
     "output_type": "execute_result"
    }
   ],
   "source": [
    "pd.timedelta_range(0, periods=5, freq='1H30T')"
   ]
  },
  {
   "cell_type": "markdown",
   "metadata": {},
   "source": [
    "### Exercise 5:\n",
    "\n",
    "Using the pandas library, create a time delta range with 20 business days starting from today's date."
   ]
  },
  {
   "cell_type": "code",
   "execution_count": 29,
   "metadata": {},
   "outputs": [
    {
     "data": {
      "text/plain": [
       "DatetimeIndex(['2019-08-20', '2019-08-21', '2019-08-22', '2019-08-23',\n",
       "               '2019-08-26', '2019-08-27', '2019-08-28', '2019-08-29',\n",
       "               '2019-08-30', '2019-09-02', '2019-09-03', '2019-09-04',\n",
       "               '2019-09-05', '2019-09-06', '2019-09-09', '2019-09-10',\n",
       "               '2019-09-11', '2019-09-12', '2019-09-13', '2019-09-16'],\n",
       "              dtype='datetime64[ns]', freq='B')"
      ]
     },
     "execution_count": 29,
     "metadata": {},
     "output_type": "execute_result"
    }
   ],
   "source": [
    "from pandas.tseries.offsets import BDay\n",
    "\n",
    "pd.date_range('2019-08-20', periods=20, freq=BDay())"
   ]
  },
  {
   "cell_type": "markdown",
   "metadata": {},
   "source": [
    "### Exercise 6:\n",
    "\n",
    "From [this link](https://notebooks.azure.com/priesterkc/projects/DABmaterial/tree/Lv1%20Data%20Analytics/datasets), download the \"smalltravel.csv\" file and upload it to your datasets folder. Then using pandas, read the file into a dataframe. Resample the average speed column by week using the mean, and plot the graph. \n",
    "\n",
    "**Tip**: You do not need to add the line style in the plot code."
   ]
  },
  {
   "cell_type": "code",
   "execution_count": 35,
   "metadata": {},
   "outputs": [
    {
     "data": {
      "text/plain": [
       "Index(['GoingTo', 'AvgSpeed', 'MovingTime'], dtype='object')"
      ]
     },
     "execution_count": 35,
     "metadata": {},
     "output_type": "execute_result"
    }
   ],
   "source": [
    "location = 'datasets/smalltravel.csv'\n",
    "travel_df = pd.read_csv(location, index_col=\"Date\", parse_dates=True)\n",
    "travel_df.head()\n",
    "travel_df.columns"
   ]
  },
  {
   "cell_type": "code",
   "execution_count": 40,
   "metadata": {
    "scrolled": true
   },
   "outputs": [
    {
     "data": {
      "text/plain": [
       "Text(0, 0.5, 'Average Speed')"
      ]
     },
     "execution_count": 40,
     "metadata": {},
     "output_type": "execute_result"
    },
    {
     "data": {
      "image/png": "[encoded data removed]",
      "text/plain": [
       "<Figure size 432x288 with 1 Axes>"
      ]
     },
     "metadata": {
      "needs_background": "light"
     },
     "output_type": "display_data"
    }
   ],
   "source": [
    "weekly = travel_df.resample('W').mean()\n",
    "weekly['AvgSpeed'].plot()\n",
    "plt.ylabel('Average Speed')"
   ]
  },
  {
   "cell_type": "markdown",
   "metadata": {},
   "source": [
    "### Exercise 7:\n",
    "\n",
    "Using the dataframe from the previous exercise, write code to group the moving time column by day of the week, then plot the graph.\n",
    "\n",
    "**Tip**: The index list only needs to contain the weekdays. You do not need to add the line style in the plot code."
   ]
  },
  {
   "cell_type": "code",
   "execution_count": 48,
   "metadata": {},
   "outputs": [
    {
     "data": {
      "text/plain": [
       "<matplotlib.axes._subplots.AxesSubplot at 0x25f09742128>"
      ]
     },
     "execution_count": 48,
     "metadata": {},
     "output_type": "execute_result"
    },
    {
     "data": {
      "image/png": "[encoded data removed]",
      "text/plain": [
       "<Figure size 432x288 with 1 Axes>"
      ]
     },
     "metadata": {
      "needs_background": "light"
     },
     "output_type": "display_data"
    }
   ],
   "source": [
    "by_weekday = travel_df.groupby(travel_df.index.dayofweek).mean()\n",
    "by_weekday.index = ['Mon', 'Tue', 'Wed', 'Thur', 'Fri']\n",
    "by_weekday['MovingTime'].plot()\n"
   ]
  },
  {
   "cell_type": "code",
   "execution_count": null,
   "metadata": {},
   "outputs": [],
   "source": []
  }
 ],
 "metadata": {
  "kernelspec": {
   "display_name": "Python 3",
   "language": "python",
   "name": "python3"
  },
  "language_info": {
   "codemirror_mode": {
    "name": "ipython",
    "version": 3
   },
   "file_extension": ".py",
   "mimetype": "text/x-python",
   "name": "python",
   "nbconvert_exporter": "python",
   "pygments_lexer": "ipython3",
   "version": "3.7.3"
  }
 },
 "nbformat": 4,
 "nbformat_minor": 2
}
